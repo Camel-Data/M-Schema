{
 "cells": [
  {
   "cell_type": "code",
   "id": "initial_id",
   "metadata": {
    "execution": {
     "iopub.execute_input": "2025-06-10T08:02:35.177128Z",
     "iopub.status.busy": "2025-06-10T08:02:35.176128Z",
     "iopub.status.idle": "2025-06-10T08:02:36.018140Z",
     "shell.execute_reply": "2025-06-10T08:02:36.016795Z",
     "shell.execute_reply.started": "2025-06-10T08:02:35.177128Z"
    },
    "ExecuteTime": {
     "end_time": "2025-06-10T08:07:15.034875Z",
     "start_time": "2025-06-10T08:07:14.160291Z"
    }
   },
   "source": [
    "from CamelLuigi.query_loaders import AthenaDWLoader\n",
    "from CamelLuigi.query_loaders import get_aws_connection\n",
    "import os\n",
    "\n",
    "from tqdm import tqdm\n",
    "\n",
    "\n",
    "# 定义一个类，用于获取表信息\n",
    "# 类中包含几个方法：根据指定schema获取所有表名，根据指定表名获取表结构，一个是ddl，一个是dml\n",
    "# 将这些信息存储到本地文件夹table_info中，按照schema分类存储，如果文件夹或者文件不存在则创建\n",
    "# 每个表的信息分别存一个文件，文件名为表名，文件内容为表结构\n",
    "# 在初始化这个类的时候，就完成所有表的获取，并存储到本地\n",
    "\n",
    "\n",
    "# 定义一个类，用于执行如explain，describe等操作：\n",
    "class ExcuteQuery:\n",
    "    def __init__(self, schema, sql):\n",
    "        self.schema = schema\n",
    "        self.sql = sql\n",
    "\n",
    "    def get_connection(self):\n",
    "        conn = get_aws_connection('datagroup', self.schema)\n",
    "        return conn\n",
    "\n",
    "    def execute_query(self):\n",
    "        conn = self.get_connection()\n",
    "        cursor = conn.cursor()\n",
    "        cursor.execute(self.sql)\n",
    "        result = cursor.fetchall()\n",
    "        cursor.close()\n",
    "        return result\n"
   ],
   "outputs": [],
   "execution_count": 1
  },
  {
   "cell_type": "code",
   "id": "e1c1f446-2a77-4edb-b5c8-557881475baf",
   "metadata": {
    "execution": {
     "iopub.execute_input": "2025-06-10T08:05:00.951239Z",
     "iopub.status.busy": "2025-06-10T08:05:00.951239Z",
     "iopub.status.idle": "2025-06-10T08:05:01.680948Z",
     "shell.execute_reply": "2025-06-10T08:05:01.679782Z",
     "shell.execute_reply.started": "2025-06-10T08:05:00.951239Z"
    },
    "ExecuteTime": {
     "end_time": "2025-06-10T08:07:52.400469Z",
     "start_time": "2025-06-10T08:07:51.773574Z"
    }
   },
   "source": "conn = get_aws_connection('datagroup', 'dreamland')",
   "outputs": [
    {
     "name": "stderr",
     "output_type": "stream",
     "text": [
      "INFO:root:[client-init] endpoint:None, tenant:datagroup\n",
      "INFO:root:[get-config] data_id:aws_dw.yaml, group:datagroup, namespace:datagroup, timeout:None\n",
      "INFO:root:[get-server] use server:('18.236.127.36', 8081)\n"
     ]
    }
   ],
   "execution_count": 2
  },
  {
   "metadata": {
    "ExecuteTime": {
     "end_time": "2025-06-10T08:09:38.240069Z",
     "start_time": "2025-06-10T08:09:38.227048Z"
    }
   },
   "cell_type": "code",
   "source": "conn.schema_name",
   "id": "c356ed9739640ac2",
   "outputs": [
    {
     "data": {
      "text/plain": [
       "'dreamland'"
      ]
     },
     "execution_count": 8,
     "metadata": {},
     "output_type": "execute_result"
    }
   ],
   "execution_count": 8
  },
  {
   "metadata": {
    "ExecuteTime": {
     "end_time": "2025-06-10T08:10:11.340075Z",
     "start_time": "2025-06-10T08:10:11.335067Z"
    }
   },
   "cell_type": "code",
   "source": "conn.s3_staging_dir",
   "id": "752469db3dfd80fd",
   "outputs": [
    {
     "data": {
      "text/plain": [
       "'s3://camel-dw/athena_query/'"
      ]
     },
     "execution_count": 12,
     "metadata": {},
     "output_type": "execute_result"
    }
   ],
   "execution_count": 12
  },
  {
   "metadata": {
    "ExecuteTime": {
     "end_time": "2025-06-10T08:12:11.155018Z",
     "start_time": "2025-06-10T08:12:11.148129Z"
    }
   },
   "cell_type": "code",
   "source": "conn.client.meta.partition",
   "id": "41af186077431434",
   "outputs": [
    {
     "data": {
      "text/plain": [
       "'aws'"
      ]
     },
     "execution_count": 22,
     "metadata": {},
     "output_type": "execute_result"
    }
   ],
   "execution_count": 22
  },
  {
   "metadata": {
    "ExecuteTime": {
     "end_time": "2025-06-10T08:13:19.800686Z",
     "start_time": "2025-06-10T08:13:19.792677Z"
    }
   },
   "cell_type": "code",
   "source": "conn.s3_staging_dir",
   "id": "7ec1369314aefd5f",
   "outputs": [
    {
     "data": {
      "text/plain": [
       "'s3://camel-dw/athena_query/'"
      ]
     },
     "execution_count": 27,
     "metadata": {},
     "output_type": "execute_result"
    }
   ],
   "execution_count": 27
  }
 ],
 "metadata": {
  "kernelspec": {
   "display_name": "camel_notebook",
   "language": "python",
   "name": "camel"
  },
  "language_info": {
   "codemirror_mode": {
    "name": "ipython",
    "version": 3
   },
   "file_extension": ".py",
   "mimetype": "text/x-python",
   "name": "python",
   "nbconvert_exporter": "python",
   "pygments_lexer": "ipython3",
   "version": "3.9.23"
  }
 },
 "nbformat": 4,
 "nbformat_minor": 5
}
